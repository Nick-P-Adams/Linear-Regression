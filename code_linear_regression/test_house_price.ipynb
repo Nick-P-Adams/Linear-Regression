{
 "cells": [
  {
   "cell_type": "code",
   "execution_count": 1,
   "id": "706c40c4-f940-496e-9e3b-2bfa4d128c19",
   "metadata": {},
   "outputs": [],
   "source": [
    "import numpy as np\n",
    "import pandas as pd\n",
    "\n",
    "from numpy.random import rand as rand\n",
    "from numpy.random import seed as seed\n",
    "import matplotlib.pyplot as plt\n",
    "from IPython.display import clear_output\n",
    "\n",
    "import linear_regression as LR\n",
    "import sys\n",
    "\n",
    "sys.path.append('..')\n",
    "from misc.utils import MyUtils"
   ]
  },
  {
   "cell_type": "code",
   "execution_count": 2,
   "id": "32f3e390-80da-4ef3-bd0b-cb4161277d2b",
   "metadata": {},
   "outputs": [
    {
     "name": "stdout",
     "output_type": "stream",
     "text": [
      "(404, 13)\n",
      "(404, 1)\n",
      "(102, 13)\n",
      "(102, 1)\n"
     ]
    }
   ],
   "source": [
    "df_X_train = pd.read_csv('houseprice/x_train.csv', header=None)\n",
    "df_y_train = pd.read_csv('houseprice/y_train.csv', header=None)\n",
    "df_X_test = pd.read_csv('houseprice/x_test.csv', header=None)\n",
    "df_y_test = pd.read_csv('houseprice/y_test.csv', header=None)\n",
    "\n",
    "X_train = MyUtils.normalize_0_1(df_X_train.to_numpy())\n",
    "X_test = MyUtils.normalize_0_1(df_X_test.to_numpy())\n",
    "n_train = X_train.shape[0]\n",
    "\n",
    "X_all = MyUtils.normalize_0_1(np.concatenate((X_train, X_test), axis=0))\n",
    "#X_train = X_all[:n_train]\n",
    "#X_test = X_all[n_train:]\n",
    "\n",
    "y_train = MyUtils.normalize_0_1(df_y_train.to_numpy())\n",
    "y_test = MyUtils.normalize_0_1(df_y_test.to_numpy())\n",
    "\n",
    "\n",
    "print(X_train.shape)\n",
    "print(y_train.shape)\n",
    "print(X_test.shape)\n",
    "print(y_test.shape)\n",
    "#print(y_test)"
   ]
  },
  {
   "cell_type": "code",
   "execution_count": 3,
   "id": "18f3e85e-29ad-4d03-bf3a-5e3379162632",
   "metadata": {},
   "outputs": [],
   "source": [
    "z_r = 2"
   ]
  },
  {
   "cell_type": "code",
   "execution_count": 4,
   "id": "a66944ba-0382-4243-b4b6-5800d440bd39",
   "metadata": {},
   "outputs": [
    {
     "ename": "TypeError",
     "evalue": "fit() got multiple values for argument 'CF'",
     "output_type": "error",
     "traceback": [
      "\u001b[1;31m---------------------------------------------------------------------------\u001b[0m",
      "\u001b[1;31mTypeError\u001b[0m                                 Traceback (most recent call last)",
      "\u001b[1;32m~\\AppData\\Local\\Temp/ipykernel_10900/967311137.py\u001b[0m in \u001b[0;36m<module>\u001b[1;34m\u001b[0m\n\u001b[0;32m      1\u001b[0m \u001b[0mlr\u001b[0m \u001b[1;33m=\u001b[0m \u001b[0mLR\u001b[0m\u001b[1;33m.\u001b[0m\u001b[0mLinearRegression\u001b[0m\u001b[1;33m(\u001b[0m\u001b[1;33m)\u001b[0m\u001b[1;33m\u001b[0m\u001b[1;33m\u001b[0m\u001b[0m\n\u001b[1;32m----> 2\u001b[1;33m \u001b[0mtest\u001b[0m \u001b[1;33m=\u001b[0m \u001b[0mlr\u001b[0m\u001b[1;33m.\u001b[0m\u001b[0mfit\u001b[0m\u001b[1;33m(\u001b[0m\u001b[0mX_train\u001b[0m\u001b[1;33m,\u001b[0m \u001b[0my_train\u001b[0m\u001b[1;33m,\u001b[0m \u001b[0mX_test\u001b[0m\u001b[1;33m,\u001b[0m \u001b[0my_test\u001b[0m\u001b[1;33m,\u001b[0m \u001b[0mCF\u001b[0m \u001b[1;33m=\u001b[0m \u001b[1;32mFalse\u001b[0m\u001b[1;33m,\u001b[0m \u001b[0mlam\u001b[0m \u001b[1;33m=\u001b[0m \u001b[1;36m100\u001b[0m\u001b[1;33m,\u001b[0m \u001b[0meta\u001b[0m \u001b[1;33m=\u001b[0m \u001b[1;36m0.00001\u001b[0m\u001b[1;33m,\u001b[0m \u001b[0mepochs\u001b[0m \u001b[1;33m=\u001b[0m \u001b[1;36m100000\u001b[0m\u001b[1;33m,\u001b[0m \u001b[0mdegree\u001b[0m \u001b[1;33m=\u001b[0m \u001b[0mz_r\u001b[0m\u001b[1;33m)\u001b[0m\u001b[1;33m\u001b[0m\u001b[1;33m\u001b[0m\u001b[0m\n\u001b[0m\u001b[0;32m      3\u001b[0m \u001b[1;33m\u001b[0m\u001b[0m\n\u001b[0;32m      4\u001b[0m \u001b[0mprint\u001b[0m\u001b[1;33m(\u001b[0m\u001b[0mlr\u001b[0m\u001b[1;33m.\u001b[0m\u001b[0mw\u001b[0m\u001b[1;33m.\u001b[0m\u001b[0mshape\u001b[0m\u001b[1;33m)\u001b[0m\u001b[1;33m\u001b[0m\u001b[1;33m\u001b[0m\u001b[0m\n",
      "\u001b[1;31mTypeError\u001b[0m: fit() got multiple values for argument 'CF'"
     ]
    }
   ],
   "source": [
    "lr = LR.LinearRegression()\n",
    "test = lr.fit(X_train, y_train, CF = False, lam = 100, eta = 0.00001, epochs = 100000, degree = z_r)\n",
    "\n",
    "print(lr.w.shape)"
   ]
  },
  {
   "cell_type": "code",
   "execution_count": null,
   "id": "30c187b9-a52f-4dbe-80fd-6d3a37933e86",
   "metadata": {},
   "outputs": [],
   "source": [
    "#print(lr.w)"
   ]
  },
  {
   "cell_type": "code",
   "execution_count": null,
   "id": "40372526-7650-49f9-b4fd-00b3f47e162a",
   "metadata": {},
   "outputs": [],
   "source": [
    "print(lr.error(X_train, y_train))\n",
    "print(lr.error(X_test, y_test))"
   ]
  },
  {
   "cell_type": "code",
   "execution_count": null,
   "id": "3edb1afb-52dd-439f-9d96-317351ec9109",
   "metadata": {},
   "outputs": [],
   "source": [
    "print(X_test.shape)"
   ]
  },
  {
   "cell_type": "code",
   "execution_count": null,
   "id": "850b3039-f4e0-47c7-a742-0fd56c4264bd",
   "metadata": {},
   "outputs": [],
   "source": [
    "plt.scatter(range(lr.predict(X_test[0:10:]).shape[0]), lr.predict(X_test)[0:10:], color = \"red\")\n",
    "plt.scatter(range(y_test[0:10:].shape[0]), y_test[0:10:])"
   ]
  },
  {
   "cell_type": "code",
   "execution_count": null,
   "id": "b189c26d-3edd-438c-981b-2d152c5325ed",
   "metadata": {},
   "outputs": [],
   "source": [
    "plt.scatter(np.arange(len(lr.MSE)-400000), lr.MSE[400000:], marker='.')\n",
    "plt.xlabel('epochs')\n",
    "plt.ylabel('MSE')\n",
    "plt.show()"
   ]
  }
 ],
 "metadata": {
  "kernelspec": {
   "display_name": "Python 3 (ipykernel)",
   "language": "python",
   "name": "python3"
  },
  "language_info": {
   "codemirror_mode": {
    "name": "ipython",
    "version": 3
   },
   "file_extension": ".py",
   "mimetype": "text/x-python",
   "name": "python",
   "nbconvert_exporter": "python",
   "pygments_lexer": "ipython3",
   "version": "3.9.7"
  }
 },
 "nbformat": 4,
 "nbformat_minor": 5
}
