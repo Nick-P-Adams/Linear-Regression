{
 "cells": [
  {
   "cell_type": "code",
   "execution_count": 1,
   "id": "33720222-95fd-482b-8d64-59b578638b38",
   "metadata": {},
   "outputs": [],
   "source": [
    "import numpy as np\n",
    "import pandas as pd\n",
    "\n",
    "import linear_regression as LR\n",
    "import matplotlib.pyplot as plt\n",
    "import sys\n",
    "\n",
    "sys.path.append('..')\n",
    "from misc.utils import MyUtils"
   ]
  },
  {
   "cell_type": "code",
   "execution_count": 2,
   "id": "01ecf3ca-ac32-4247-82dc-6292db02ee05",
   "metadata": {},
   "outputs": [],
   "source": [
    "df_X_train = pd.read_csv('houseprice/x_train.csv', header=None)\n",
    "df_y_train = pd.read_csv('houseprice/y_train.csv', header=None)\n",
    "df_X_test = pd.read_csv('houseprice/x_test.csv', header=None)\n",
    "df_y_test = pd.read_csv('houseprice/y_test.csv', header=None)\n",
    "\n",
    "X_train = MyUtils.normalize_0_1(df_X_train.to_numpy())\n",
    "X_test = MyUtils.normalize_0_1(df_X_test.to_numpy())\n",
    "y_train = MyUtils.normalize_0_1(df_y_train.to_numpy())\n",
    "y_test = MyUtils.normalize_0_1(df_y_test.to_numpy())"
   ]
  },
  {
   "cell_type": "code",
   "execution_count": 3,
   "id": "997e8a96-f885-4a2a-bc02-21c7fc63f964",
   "metadata": {},
   "outputs": [],
   "source": [
    "degrees = [1, 2, 3, 4]\n",
    "lamdas = [0.0001, 0.001, 0.01, 0.1 , 1, 10]\n",
    "etas = [0.1, 0.01, 0.001, 0.0001, 0.00001]\n",
    "MSEs = []\n",
    "\n",
    "min_MSE = 0\n",
    "degree = 0\n",
    "lamda = 0\n",
    "eta = 0\n",
    "\n",
    "lr = LR.LinearRegression()"
   ]
  },
  {
   "cell_type": "code",
   "execution_count": 4,
   "id": "62294b00-0de3-468d-84c0-8aeb6d2bf0aa",
   "metadata": {},
   "outputs": [
    {
     "data": {
      "text/plain": [
       "'for i in range (len(degrees)):\\n    for k in range (len(lamdas)):\\n        for l in range (len(etas)):\\n            MSEs.append(lr.fit(X_train, y_train, X_test, y_test, CF = False, lam = lamdas[k], eta = etas[l], epochs = 100000, degree = degrees[i]))\\n            error = lr.error(X_test, y_test)\\n                \\n            #print(i, \" \", k, \" \", l)\\n                \\n            if(min_MSE == 0 or error < min_MSE):\\n                min_MSE = error\\n                    \\n                degree = degrees[i]\\n                lamda = lamdas[k]\\n                eta = etas[l]\\n                    \\nprint(\"----Best Result----\\n\")\\nprint(\"MSE:    \", min_MSE)\\nprint(\"Degree: \", degree)\\nprint(\"Lamda:  \", lamda)\\nprint(\"eta:    \", eta)'"
      ]
     },
     "execution_count": 4,
     "metadata": {},
     "output_type": "execute_result"
    }
   ],
   "source": [
    "'''for i in range (len(degrees)):\n",
    "    for k in range (len(lamdas)):\n",
    "        for l in range (len(etas)):\n",
    "            MSEs.append(lr.fit(X_train, y_train, X_test, y_test, CF = False, lam = lamdas[k], eta = etas[l], epochs = 100000, degree = degrees[i]))\n",
    "            error = lr.error(X_test, y_test)\n",
    "                \n",
    "            #print(i, \" \", k, \" \", l)\n",
    "                \n",
    "            if(min_MSE == 0 or error < min_MSE):\n",
    "                min_MSE = error\n",
    "                    \n",
    "                degree = degrees[i]\n",
    "                lamda = lamdas[k]\n",
    "                eta = etas[l]\n",
    "                    \n",
    "print(\"----Best Result----\\n\")\n",
    "print(\"MSE:    \", min_MSE)\n",
    "print(\"Degree: \", degree)\n",
    "print(\"Lamda:  \", lamda)\n",
    "print(\"eta:    \", eta)'''"
   ]
  },
  {
   "cell_type": "code",
   "execution_count": 5,
   "id": "82bc10ba-0540-4e80-879c-4fa889fdec2b",
   "metadata": {},
   "outputs": [
    {
     "name": "stdout",
     "output_type": "stream",
     "text": [
      "----Best Result----\n",
      "\n",
      "MSE:     0.014593796528512483\n",
      "Degree:  3\n",
      "Lamda:   0.1\n"
     ]
    }
   ],
   "source": [
    "'''for i in range (len(degrees)):\n",
    "    for k in range (len(lamdas)):\n",
    "        lr.fit(X_train, y_train, X_test, y_test, CF = True, lam = lamdas[k], eta = 0.1, epochs = 100000, degree = degrees[i])\n",
    "        error = lr.error(X_test, y_test)\n",
    "                \n",
    "        #print(i, \" \", k, \" \", l)\n",
    "                \n",
    "        if(min_MSE == 0 or error < min_MSE):\n",
    "            min_MSE = error\n",
    "                    \n",
    "            degree = degrees[i]\n",
    "            lamda = lamdas[k]\n",
    "                    \n",
    "print(\"----Best Result----\\n\")\n",
    "print(\"MSE:    \", min_MSE)\n",
    "print(\"Degree: \", degree)\n",
    "print(\"Lamda:  \", lamda)'''\n",
    "lr.fit(X_train, y_train, CF = False, lam = 0.01, eta = 0.1, epochs = 1000, degree = 2)"
   ]
  },
  {
   "cell_type": "code",
   "execution_count": 6,
   "id": "5b238130-44d5-456c-b11c-f3dbd07b1fb1",
   "metadata": {},
   "outputs": [
    {
     "data": {
      "text/plain": [
       "'#print(MSEs[0])\\nepochs = []\\nfor k in range(1, 100001):\\n    if k % 1000 == 0:\\n        epochs.append(k)\\n        \\nprint(len(MSEs))\\nplt.plot(epochs, MSEs[0])\\nplt.show()'"
      ]
     },
     "execution_count": 6,
     "metadata": {},
     "output_type": "execute_result"
    }
   ],
   "source": [
    "'''#print(MSEs[0])\n",
    "epochs = []\n",
    "for k in range(1, 100001):\n",
    "    if k % 1000 == 0:\n",
    "        epochs.append(k)\n",
    "        \n",
    "print(len(MSEs))\n",
    "plt.plot(epochs, MSEs[0])\n",
    "plt.show()'''"
   ]
  },
  {
   "cell_type": "code",
   "execution_count": null,
   "id": "9dcf1151-f0a2-4449-80e1-d83953cea161",
   "metadata": {},
   "outputs": [],
   "source": []
  }
 ],
 "metadata": {
  "kernelspec": {
   "display_name": "Python 3 (ipykernel)",
   "language": "python",
   "name": "python3"
  },
  "language_info": {
   "codemirror_mode": {
    "name": "ipython",
    "version": 3
   },
   "file_extension": ".py",
   "mimetype": "text/x-python",
   "name": "python",
   "nbconvert_exporter": "python",
   "pygments_lexer": "ipython3",
   "version": "3.9.7"
  }
 },
 "nbformat": 4,
 "nbformat_minor": 5
}
